{
 "cells": [
  {
   "cell_type": "code",
   "execution_count": 2,
   "id": "ac5ba187",
   "metadata": {
    "scrolled": false
   },
   "outputs": [
    {
     "data": {
      "text/html": [
       "<div>\n",
       "<style scoped>\n",
       "    .dataframe tbody tr th:only-of-type {\n",
       "        vertical-align: middle;\n",
       "    }\n",
       "\n",
       "    .dataframe tbody tr th {\n",
       "        vertical-align: top;\n",
       "    }\n",
       "\n",
       "    .dataframe thead th {\n",
       "        text-align: right;\n",
       "    }\n",
       "</style>\n",
       "<table border=\"1\" class=\"dataframe\">\n",
       "  <thead>\n",
       "    <tr style=\"text-align: right;\">\n",
       "      <th></th>\n",
       "      <th>Year</th>\n",
       "      <th>Region</th>\n",
       "      <th>Period</th>\n",
       "      <th>Population</th>\n",
       "    </tr>\n",
       "  </thead>\n",
       "  <tbody>\n",
       "    <tr>\n",
       "      <th>0</th>\n",
       "      <td>1950</td>\n",
       "      <td>Africa</td>\n",
       "      <td>Past</td>\n",
       "      <td>225120311</td>\n",
       "    </tr>\n",
       "    <tr>\n",
       "      <th>1</th>\n",
       "      <td>1955</td>\n",
       "      <td>Africa</td>\n",
       "      <td>Past</td>\n",
       "      <td>250996982</td>\n",
       "    </tr>\n",
       "    <tr>\n",
       "      <th>2</th>\n",
       "      <td>1960</td>\n",
       "      <td>Africa</td>\n",
       "      <td>Past</td>\n",
       "      <td>280903431</td>\n",
       "    </tr>\n",
       "    <tr>\n",
       "      <th>3</th>\n",
       "      <td>1965</td>\n",
       "      <td>Africa</td>\n",
       "      <td>Past</td>\n",
       "      <td>317406226</td>\n",
       "    </tr>\n",
       "    <tr>\n",
       "      <th>4</th>\n",
       "      <td>1970</td>\n",
       "      <td>Africa</td>\n",
       "      <td>Past</td>\n",
       "      <td>360671324</td>\n",
       "    </tr>\n",
       "    <tr>\n",
       "      <th>...</th>\n",
       "      <td>...</td>\n",
       "      <td>...</td>\n",
       "      <td>...</td>\n",
       "      <td>...</td>\n",
       "    </tr>\n",
       "    <tr>\n",
       "      <th>181</th>\n",
       "      <td>2080</td>\n",
       "      <td>Oceania</td>\n",
       "      <td>Future</td>\n",
       "      <td>65910540</td>\n",
       "    </tr>\n",
       "    <tr>\n",
       "      <th>182</th>\n",
       "      <td>2085</td>\n",
       "      <td>Oceania</td>\n",
       "      <td>Future</td>\n",
       "      <td>66737003</td>\n",
       "    </tr>\n",
       "    <tr>\n",
       "      <th>183</th>\n",
       "      <td>2090</td>\n",
       "      <td>Oceania</td>\n",
       "      <td>Future</td>\n",
       "      <td>67434886</td>\n",
       "    </tr>\n",
       "    <tr>\n",
       "      <th>184</th>\n",
       "      <td>2095</td>\n",
       "      <td>Oceania</td>\n",
       "      <td>Future</td>\n",
       "      <td>68070784</td>\n",
       "    </tr>\n",
       "    <tr>\n",
       "      <th>185</th>\n",
       "      <td>2100</td>\n",
       "      <td>Oceania</td>\n",
       "      <td>Future</td>\n",
       "      <td>68657041</td>\n",
       "    </tr>\n",
       "  </tbody>\n",
       "</table>\n",
       "<p>186 rows × 4 columns</p>\n",
       "</div>"
      ],
      "text/plain": [
       "     Year   Region  Period  Population\n",
       "0    1950   Africa    Past   225120311\n",
       "1    1955   Africa    Past   250996982\n",
       "2    1960   Africa    Past   280903431\n",
       "3    1965   Africa    Past   317406226\n",
       "4    1970   Africa    Past   360671324\n",
       "..    ...      ...     ...         ...\n",
       "181  2080  Oceania  Future    65910540\n",
       "182  2085  Oceania  Future    66737003\n",
       "183  2090  Oceania  Future    67434886\n",
       "184  2095  Oceania  Future    68070784\n",
       "185  2100  Oceania  Future    68657041\n",
       "\n",
       "[186 rows x 4 columns]"
      ]
     },
     "metadata": {},
     "output_type": "display_data"
    }
   ],
   "source": [
    "import pandas as pd\n",
    "from ipyvizzu import Chart, Data, Config, Style\n",
    "\n",
    "df = pd.read_csv('Data/worldpop_simple.csv', dtype={'Year': str})\n",
    "data = Data()\n",
    "data.add_data_frame(df)\n",
    "\n",
    "display(df)"
   ]
  },
  {
   "cell_type": "code",
   "execution_count": 17,
   "id": "1f63c1f7",
   "metadata": {
    "scrolled": false
   },
   "outputs": [
    {
     "data": {
      "application/javascript": [
       "if (window.IpyVizzu) { window.IpyVizzu.clearInhibitScroll(element); }"
      ]
     },
     "metadata": {},
     "output_type": "display_data"
    },
    {
     "data": {
      "application/javascript": [
       "if (window.IpyVizzu) { window.IpyVizzu.clearInhibitScroll(element); }"
      ]
     },
     "metadata": {},
     "output_type": "display_data"
    },
    {
     "data": {
      "application/javascript": [
       "if (window.IpyVizzu) { window.IpyVizzu.clearInhibitScroll(element); }"
      ]
     },
     "metadata": {},
     "output_type": "display_data"
    },
    {
     "data": {
      "application/javascript": [
       "if (window.IpyVizzu) { window.IpyVizzu.clearInhibitScroll(element); }"
      ]
     },
     "metadata": {},
     "output_type": "display_data"
    },
    {
     "data": {
      "application/javascript": [
       "if (window.IpyVizzu) { window.IpyVizzu.clearInhibitScroll(element); }"
      ]
     },
     "metadata": {},
     "output_type": "display_data"
    },
    {
     "data": {
      "application/javascript": [
       "if (window.IpyVizzu) { window.IpyVizzu.clearInhibitScroll(element); }"
      ]
     },
     "metadata": {},
     "output_type": "display_data"
    },
    {
     "data": {
      "application/javascript": [
       "if (window.IpyVizzu) { window.IpyVizzu.clearInhibitScroll(element); }"
      ]
     },
     "metadata": {},
     "output_type": "display_data"
    },
    {
     "data": {
      "application/javascript": [
       "if (window.IpyVizzu) { window.IpyVizzu.clearInhibitScroll(element); }"
      ]
     },
     "metadata": {},
     "output_type": "display_data"
    },
    {
     "data": {
      "application/javascript": [
       "if (window.IpyVizzu) { window.IpyVizzu.clearInhibitScroll(element); }"
      ]
     },
     "metadata": {},
     "output_type": "display_data"
    },
    {
     "data": {
      "application/javascript": [
       "if (window.IpyVizzu) { window.IpyVizzu.clearInhibitScroll(element); }"
      ]
     },
     "metadata": {},
     "output_type": "display_data"
    },
    {
     "data": {
      "application/javascript": [
       "if (window.IpyVizzu) { window.IpyVizzu.clearInhibitScroll(element); }"
      ]
     },
     "metadata": {},
     "output_type": "display_data"
    },
    {
     "data": {
      "application/javascript": [
       "if (window.IpyVizzu) { window.IpyVizzu.clearInhibitScroll(element); }"
      ]
     },
     "metadata": {},
     "output_type": "display_data"
    },
    {
     "data": {
      "application/javascript": [
       "if (!window.IpyVizzu) {\n",
       "    class IpyVizzu \n",
       "    {\n",
       "        constructor()\n",
       "        {\n",
       "            IpyVizzu.inhibitScroll = false;\n",
       "            IpyVizzu.nbconvert = false;\n",
       "            document.addEventListener('wheel', (evt) => { IpyVizzu.inhibitScroll = true }, true);\n",
       "            document.addEventListener('keydown', (evt) => { IpyVizzu.inhibitScroll = true }, true);\n",
       "            document.addEventListener('touchstart', (evt) => { IpyVizzu.inhibitScroll = true }, true);\n",
       "\n",
       "            this.elements = {};\n",
       "            this.charts = {};\n",
       "            \n",
       "            this.snapshots = {};\n",
       "            this.displays = {};\n",
       "\n",
       "            this.events = {};\n",
       "            this.loaded = {};\n",
       "            this.libs = {};\n",
       "        }\n",
       "\n",
       "        static clearInhibitScroll(element)\n",
       "        {\n",
       "            if (IpyVizzu.nbconvert) IpyVizzu._hide(element);\n",
       "            IpyVizzu.inhibitScroll = false;\n",
       "        }\n",
       "\n",
       "        createChart(element, chartId, vizzulib, divWidth, divHeight) {\n",
       "            this.elements[chartId] = document.createElement(\"div\");\n",
       "            this.elements[chartId].style.cssText = `width: ${divWidth}; height: ${divHeight};`;\n",
       "            this.loaded[chartId] = import(vizzulib);\n",
       "            this.charts[chartId] = this.loaded[chartId].then(Vizzu => {\n",
       "                this.libs[chartId] = Vizzu.default;\n",
       "                return new Vizzu.default(this.elements[chartId]).initializing\n",
       "            });\n",
       "            this._moveHere(chartId, element);\n",
       "        }\n",
       "\n",
       "        animate(element, chartId, displayTarget, scrollEnabled, getChartTarget, chartAnimOpts)\n",
       "        {\n",
       "            if (IpyVizzu.nbconvert) IpyVizzu._hide(element);\n",
       "            if (displayTarget === 'end') this._moveHere(chartId, element);\n",
       "            this.charts[chartId] = this.charts[chartId].then(chart => {\n",
       "                if (displayTarget === 'actual') this._moveHere(chartId, element);\n",
       "                this._scroll(chartId, scrollEnabled);\n",
       "                let chartTarget = getChartTarget(this.libs[chartId]);\n",
       "                if (typeof chartTarget === 'string') chartTarget = this.snapshots[chartTarget];\n",
       "                return chart.animate(chartTarget, chartAnimOpts);\n",
       "            });\n",
       "        }\n",
       "\n",
       "        store(element, chartId, id)\n",
       "        {\n",
       "            if (IpyVizzu.nbconvert) IpyVizzu._hide(element);\n",
       "            this.charts[chartId] = this.charts[chartId].then(chart => {\n",
       "                this.snapshots[id] = chart.store();\n",
       "                return chart;\n",
       "            });\n",
       "        }\n",
       "\n",
       "        feature(element, chartId, name, enabled)\n",
       "        {\n",
       "            if (IpyVizzu.nbconvert) IpyVizzu._hide(element);\n",
       "            this.charts[chartId] = this.charts[chartId].then(chart => {\n",
       "                chart.feature(name, enabled);\n",
       "                return chart;\n",
       "            });\n",
       "        }\n",
       "\n",
       "        setEvent(element, chartId, id, event, handler)\n",
       "        {\n",
       "            if (IpyVizzu.nbconvert) IpyVizzu._hide(element);\n",
       "            this.charts[chartId] = this.charts[chartId].then(chart => {\n",
       "                this.events[id] = handler;\n",
       "                chart.on(event, this.events[id]);\n",
       "                return chart;\n",
       "            });\n",
       "        }\n",
       "\n",
       "        clearEvent(element, chartId, id, event)\n",
       "        {\n",
       "            if (IpyVizzu.nbconvert) IpyVizzu._hide(element);\n",
       "            this.charts[chartId] = this.charts[chartId].then(chart => {\n",
       "                chart.off(event, this.events[id]);\n",
       "                return chart;\n",
       "            });\n",
       "        }\n",
       "\n",
       "        log(element, chartId, chartProperty)\n",
       "        {\n",
       "            if (IpyVizzu.nbconvert) IpyVizzu._hide(element);\n",
       "            this.charts[chartId] = this.charts[chartId].then(chart => {\n",
       "                console.log(chart[chartProperty])\n",
       "                return chart;\n",
       "            });\n",
       "        }\n",
       "\n",
       "        _moveHere(chartId, element)\n",
       "        {\n",
       "            if (IpyVizzu.nbconvert) IpyVizzu._display(this.elements[chartId], element);\n",
       "            element.append(this.elements[chartId]);\n",
       "        }\n",
       "\n",
       "        _scroll(chartId, enabled)\n",
       "        {\n",
       "            if (!IpyVizzu.inhibitScroll && enabled) {\n",
       "                this.elements[chartId].scrollIntoView({ behavior: \"auto\", block: \"center\" });\n",
       "            }\n",
       "        }\n",
       "\n",
       "        static _hide(element) {\n",
       "            document.getElementById(element.selector.substring(1)).parentNode.style.display = 'none';\n",
       "        }\n",
       "\n",
       "        static _display(prevElement, element) {\n",
       "            if (prevElement.parentNode) {\n",
       "                prevElement.parentNode.style.display = \"none\";\n",
       "            }\n",
       "            document.getElementById(element.selector.substring(1)).parentNode.style.display = 'flex';\n",
       "            document.getElementById(element.selector.substring(1)).parentNode.style.margin = 'auto';\n",
       "        }\n",
       "    }\n",
       "\n",
       "    window.IpyVizzu = IpyVizzu;\n",
       "    window.ipyvizzu = new window.IpyVizzu();\n",
       "}"
      ]
     },
     "metadata": {},
     "output_type": "display_data"
    },
    {
     "data": {
      "application/javascript": [
       "window.ipyvizzu.createChart(element, '41fae22', 'https://vizzu-lib-main.storage.googleapis.com/lib/vizzu.min.js', '100%', '400px');"
      ]
     },
     "metadata": {},
     "output_type": "display_data"
    },
    {
     "data": {
      "application/javascript": [
       "window.ipyvizzu.animate(element, '41fae22', 'begin', false, lib => { return {\"data\": {\"series\": [{\"name\": \"Year\", \"type\": \"dimension\", \"values\": [\"1950\", \"1955\", \"1960\", \"1965\", \"1970\", \"1975\", \"1980\", \"1985\", \"1990\", \"1995\", \"2000\", \"2005\", \"2010\", \"2015\", \"2020\", \"2025\", \"2030\", \"2035\", \"2040\", \"2045\", \"2050\", \"2055\", \"2060\", \"2065\", \"2070\", \"2075\", \"2080\", \"2085\", \"2090\", \"2095\", \"2100\", \"1950\", \"1955\", \"1960\", \"1965\", \"1970\", \"1975\", \"1980\", \"1985\", \"1990\", \"1995\", \"2000\", \"2005\", \"2010\", \"2015\", \"2020\", \"2025\", \"2030\", \"2035\", \"2040\", \"2045\", \"2050\", \"2055\", \"2060\", \"2065\", \"2070\", \"2075\", \"2080\", \"2085\", \"2090\", \"2095\", \"2100\", \"1950\", \"1955\", \"1960\", \"1965\", \"1970\", \"1975\", \"1980\", \"1985\", \"1990\", \"1995\", \"2000\", \"2005\", \"2010\", \"2015\", \"2020\", \"2025\", \"2030\", \"2035\", \"2040\", \"2045\", \"2050\", \"2055\", \"2060\", \"2065\", \"2070\", \"2075\", \"2080\", \"2085\", \"2090\", \"2095\", \"2100\", \"1950\", \"1955\", \"1960\", \"1965\", \"1970\", \"1975\", \"1980\", \"1985\", \"1990\", \"1995\", \"2000\", \"2005\", \"2010\", \"2015\", \"2020\", \"2025\", \"2030\", \"2035\", \"2040\", \"2045\", \"2050\", \"2055\", \"2060\", \"2065\", \"2070\", \"2075\", \"2080\", \"2085\", \"2090\", \"2095\", \"2100\", \"1950\", \"1955\", \"1960\", \"1965\", \"1970\", \"1975\", \"1980\", \"1985\", \"1990\", \"1995\", \"2000\", \"2005\", \"2010\", \"2015\", \"2020\", \"2025\", \"2030\", \"2035\", \"2040\", \"2045\", \"2050\", \"2055\", \"2060\", \"2065\", \"2070\", \"2075\", \"2080\", \"2085\", \"2090\", \"2095\", \"2100\", \"1950\", \"1955\", \"1960\", \"1965\", \"1970\", \"1975\", \"1980\", \"1985\", \"1990\", \"1995\", \"2000\", \"2005\", \"2010\", \"2015\", \"2020\", \"2025\", \"2030\", \"2035\", \"2040\", \"2045\", \"2050\", \"2055\", \"2060\", \"2065\", \"2070\", \"2075\", \"2080\", \"2085\", \"2090\", \"2095\", \"2100\"]}, {\"name\": \"Region\", \"type\": \"dimension\", \"values\": [\"Africa\", \"Africa\", \"Africa\", \"Africa\", \"Africa\", \"Africa\", \"Africa\", \"Africa\", \"Africa\", \"Africa\", \"Africa\", \"Africa\", \"Africa\", \"Africa\", \"Africa\", \"Africa\", \"Africa\", \"Africa\", \"Africa\", \"Africa\", \"Africa\", \"Africa\", \"Africa\", \"Africa\", \"Africa\", \"Africa\", \"Africa\", \"Africa\", \"Africa\", \"Africa\", \"Africa\", \"Asia\", \"Asia\", \"Asia\", \"Asia\", \"Asia\", \"Asia\", \"Asia\", \"Asia\", \"Asia\", \"Asia\", \"Asia\", \"Asia\", \"Asia\", \"Asia\", \"Asia\", \"Asia\", \"Asia\", \"Asia\", \"Asia\", \"Asia\", \"Asia\", \"Asia\", \"Asia\", \"Asia\", \"Asia\", \"Asia\", \"Asia\", \"Asia\", \"Asia\", \"Asia\", \"Asia\", \"Europe\", \"Europe\", \"Europe\", \"Europe\", \"Europe\", \"Europe\", \"Europe\", \"Europe\", \"Europe\", \"Europe\", \"Europe\", \"Europe\", \"Europe\", \"Europe\", \"Europe\", \"Europe\", \"Europe\", \"Europe\", \"Europe\", \"Europe\", \"Europe\", \"Europe\", \"Europe\", \"Europe\", \"Europe\", \"Europe\", \"Europe\", \"Europe\", \"Europe\", \"Europe\", \"Europe\", \"LAC\", \"LAC\", \"LAC\", \"LAC\", \"LAC\", \"LAC\", \"LAC\", \"LAC\", \"LAC\", \"LAC\", \"LAC\", \"LAC\", \"LAC\", \"LAC\", \"LAC\", \"LAC\", \"LAC\", \"LAC\", \"LAC\", \"LAC\", \"LAC\", \"LAC\", \"LAC\", \"LAC\", \"LAC\", \"LAC\", \"LAC\", \"LAC\", \"LAC\", \"LAC\", \"LAC\", \"Northern America\", \"Northern America\", \"Northern America\", \"Northern America\", \"Northern America\", \"Northern America\", \"Northern America\", \"Northern America\", \"Northern America\", \"Northern America\", \"Northern America\", \"Northern America\", \"Northern America\", \"Northern America\", \"Northern America\", \"Northern America\", \"Northern America\", \"Northern America\", \"Northern America\", \"Northern America\", \"Northern America\", \"Northern America\", \"Northern America\", \"Northern America\", \"Northern America\", \"Northern America\", \"Northern America\", \"Northern America\", \"Northern America\", \"Northern America\", \"Northern America\", \"Oceania\", \"Oceania\", \"Oceania\", \"Oceania\", \"Oceania\", \"Oceania\", \"Oceania\", \"Oceania\", \"Oceania\", \"Oceania\", \"Oceania\", \"Oceania\", \"Oceania\", \"Oceania\", \"Oceania\", \"Oceania\", \"Oceania\", \"Oceania\", \"Oceania\", \"Oceania\", \"Oceania\", \"Oceania\", \"Oceania\", \"Oceania\", \"Oceania\", \"Oceania\", \"Oceania\", \"Oceania\", \"Oceania\", \"Oceania\", \"Oceania\"]}, {\"name\": \"Period\", \"type\": \"dimension\", \"values\": [\"Past\", \"Past\", \"Past\", \"Past\", \"Past\", \"Past\", \"Past\", \"Past\", \"Past\", \"Past\", \"Past\", \"Past\", \"Past\", \"Past\", \"Past\", \"Future\", \"Future\", \"Future\", \"Future\", \"Future\", \"Future\", \"Future\", \"Future\", \"Future\", \"Future\", \"Future\", \"Future\", \"Future\", \"Future\", \"Future\", \"Future\", \"Past\", \"Past\", \"Past\", \"Past\", \"Past\", \"Past\", \"Past\", \"Past\", \"Past\", \"Past\", \"Past\", \"Past\", \"Past\", \"Past\", \"Past\", \"Future\", \"Future\", \"Future\", \"Future\", \"Future\", \"Future\", \"Future\", \"Future\", \"Future\", \"Future\", \"Future\", \"Future\", \"Future\", \"Future\", \"Future\", \"Future\", \"Past\", \"Past\", \"Past\", \"Past\", \"Past\", \"Past\", \"Past\", \"Past\", \"Past\", \"Past\", \"Past\", \"Past\", \"Past\", \"Past\", \"Past\", \"Future\", \"Future\", \"Future\", \"Future\", \"Future\", \"Future\", \"Future\", \"Future\", \"Future\", \"Future\", \"Future\", \"Future\", \"Future\", \"Future\", \"Future\", \"Future\", \"Past\", \"Past\", \"Past\", \"Past\", \"Past\", \"Past\", \"Past\", \"Past\", \"Past\", \"Past\", \"Past\", \"Past\", \"Past\", \"Past\", \"Past\", \"Future\", \"Future\", \"Future\", \"Future\", \"Future\", \"Future\", \"Future\", \"Future\", \"Future\", \"Future\", \"Future\", \"Future\", \"Future\", \"Future\", \"Future\", \"Future\", \"Past\", \"Past\", \"Past\", \"Past\", \"Past\", \"Past\", \"Past\", \"Past\", \"Past\", \"Past\", \"Past\", \"Past\", \"Past\", \"Past\", \"Past\", \"Future\", \"Future\", \"Future\", \"Future\", \"Future\", \"Future\", \"Future\", \"Future\", \"Future\", \"Future\", \"Future\", \"Future\", \"Future\", \"Future\", \"Future\", \"Future\", \"Past\", \"Past\", \"Past\", \"Past\", \"Past\", \"Past\", \"Past\", \"Past\", \"Past\", \"Past\", \"Past\", \"Past\", \"Past\", \"Past\", \"Past\", \"Future\", \"Future\", \"Future\", \"Future\", \"Future\", \"Future\", \"Future\", \"Future\", \"Future\", \"Future\", \"Future\", \"Future\", \"Future\", \"Future\", \"Future\", \"Future\"]}, {\"name\": \"Population\", \"type\": \"measure\", \"values\": [225120311.0, 250996982.0, 280903431.0, 317406226.0, 360671324.0, 411631597.0, 474765018.0, 547785817.0, 629698822.0, 715094433.0, 808870908.0, 916192532.0, 1041484014.0, 1185462534.0, 1344069830.0, 1512428655.0, 1692186171.0, 1880099247.0, 2073830812.0, 2270126162.0, 2465754850.0, 2657438687.0, 2842982261.0, 3020948829.0, 3189577699.0, 3346895592.0, 3490825089.0, 3620869142.0, 3735552232.0, 3834301844.0, 3917076934.0, 1365952997.0, 1515565885.0, 1687109645.0, 1878936957.0, 2119694222.0, 2372414663.0, 2610304951.0, 2881942971.0, 3180894355.0, 3458387205.0, 3710927693.0, 3956347487.0, 4196968511.0, 4437208643.0, 4647857977.0, 4800868175.0, 4945652427.0, 5068063483.0, 5167563222.0, 5242999222.0, 5290144616.0, 5305546526.0, 5292608743.0, 5258873985.0, 5210000263.0, 5147795514.0, 5071617956.0, 4983305906.0, 4887774117.0, 4788187592.0, 4684822376.0, 547304279.0, 573464682.0, 602648649.0, 631751228.0, 654744742.0, 674953289.0, 691839825.0, 706184689.0, 720335312.0, 727214979.0, 726920484.0, 728614943.0, 735650133.0, 741540030.0, 746597458.0, 741375665.0, 737128937.0, 730926535.0, 723336520.0, 714567963.0, 704171538.0, 691708083.0, 677689169.0, 663330814.0, 649626629.0, 636988568.0, 625394563.0, 614732992.0, 604963806.0, 595955377.0, 587361537.0, 166137383.0, 189384027.0, 216712725.0, 248706117.0, 283011868.0, 319257004.0, 358347441.0, 398145939.0, 438384266.0, 479414859.0, 518770743.0, 554587278.0, 587263897.0, 619929407.0, 649524000.0, 672441678.0, 695480218.0, 714990391.0, 730528985.0, 741696624.0, 748715280.0, 751720943.0, 751009310.0, 746886993.0, 739414588.0, 728888550.0, 715742082.0, 700607735.0, 684140809.0, 666846122.0, 649177439.0, 160753800.0, 175268610.0, 192535185.0, 208152254.0, 220267702.0, 233343291.0, 246253019.0, 259775568.0, 273952033.0, 293278155.0, 311469766.0, 327602788.0, 343792923.0, 359036074.0, 373272249.0, 382111788.0, 392312390.0, 401771065.0, 409860407.0, 416232672.0, 421000981.0, 424695664.0, 428240371.0, 432066142.0, 436041100.0, 439591078.0, 442256411.0, 444059761.0, 445403539.0, 446638480.0, 447907090.0, 12405962.0, 13971517.0, 15679577.0, 17423322.0, 19209199.0, 21388504.0, 22759399.0, 24528870.0, 26495564.0, 28671131.0, 30982434.0, 33537875.0, 36791782.0, 40063352.0, 43652259.0, 46375138.0, 48963186.0, 51380340.0, 53627507.0, 55721994.0, 57652764.0, 59402666.0, 60992592.0, 62436554.0, 63751487.0, 64919998.0, 65910540.0, 66737003.0, 67434886.0, 68070784.0, 68657041.0]}]}, \"config\": {\"x\": \"Year\", \"y\": \"Population\", \"label\": \"Population\", \"title\": \"The Population of the World 1950-2100\"}, \"style\": {\"plot\": {\"paddingLeft\": \"8em\", \"yAxis\": {\"label\": {\"numberFormat\": \"prefixed\", \"numberScale\": \"shortScaleSymbolUS\"}}, \"marker\": {\"label\": {\"position\": \"top\", \"fontSize\": \"1em\", \"numberFormat\": \"prefixed\", \"maxFractionDigits\": \"1\", \"numberScale\": \"shortScaleSymbolUS\"}}, \"xAxis\": {\"label\": {\"angle\": \"2.5\"}}}, \"logo\": {\"width\": \"5em\"}}} }, undefined);"
      ]
     },
     "metadata": {},
     "output_type": "display_data"
    },
    {
     "data": {
      "application/javascript": [
       "window.ipyvizzu.animate(element, '41fae22', 'begin', false, lib => { return {\"config\": {\"y\": [\"Population\", \"Region\"], \"color\": \"Region\", \"title\": \"The Population of Regions 1950-2100\"}, \"style\": {\"plot\": {\"marker\": {\"colorPalette\": \"#FE7B00FF #FEBF25FF #55A4F3FF #91BF3BFF #E73849FF #948DEDFF\"}}, \"legend\": {\"width\": \"13em\"}}} }, undefined);"
      ]
     },
     "metadata": {},
     "output_type": "display_data"
    },
    {
     "data": {
      "application/javascript": [
       "window.ipyvizzu.animate(element, '41fae22', 'begin', false, lib => { return {\"data\": {\"filter\": record => { return (record.Period == 'Past' && record.Region =='Africa') }}, \"config\": {\"title\": \"The Population of Africa 1950-2020\", \"legend\": null}} }, undefined);"
      ]
     },
     "metadata": {},
     "output_type": "display_data"
    },
    {
     "data": {
      "application/javascript": [
       "window.ipyvizzu.animate(element, '41fae22', 'begin', false, lib => { return {\"style\": {\"plot\": {\"yAxis\": {\"label\": {\"numberScale\": \"shortScaleSymbolUK\"}}, \"marker\": {\"label\": {\"numberScale\": \"shortScaleSymbolUK\"}}}}} }, undefined);"
      ]
     },
     "metadata": {},
     "output_type": "display_data"
    }
   ],
   "source": [
    "chart = Chart(width='100%', height='400px', display= \"begin\", vizzu=\"https://vizzu-lib-main.storage.googleapis.com/lib/vizzu.min.js\")\n",
    "chart.animate(data,\n",
    "   Config({\n",
    "            'x': 'Year',\n",
    "            'y': 'Population',\n",
    "            'label':'Population',\n",
    "            'title': 'The Population of the World 1950-2100'\n",
    "        }),\n",
    "    Style({\n",
    "        \"plot\": { 'paddingLeft' : '8em',\n",
    "            \"yAxis\": { \"label\": { 'numberFormat' : 'prefixed', 'numberScale':'shortScaleSymbolUS'}},\n",
    "            'marker' :{ 'label' :{ 'position':'top','fontSize':'1em','numberFormat' : 'prefixed','maxFractionDigits' : '1','numberScale':'shortScaleSymbolUS'}},\n",
    "            \"xAxis\": { \"label\": {\"angle\": \"2.5\"}},\n",
    "        },\n",
    "        \"logo\":{'width':\"5em\"}\n",
    "    })\n",
    ")\n",
    "\n",
    "            \n",
    "chart.animate(\n",
    "   Config({\n",
    "            'y': ['Population','Region'],\n",
    "            'color': 'Region',\n",
    "            'title': 'The Population of Regions 1950-2100',\n",
    "        }),\n",
    "    Style({\n",
    "        'plot' : {'marker' : { 'colorPalette' : '#FE7B00FF #FEBF25FF #55A4F3FF #91BF3BFF #E73849FF #948DEDFF'}},\n",
    "        'legend' : {'width' : '13em'},\n",
    "    })\n",
    ")\n",
    "\n",
    "\n",
    "chart.animate(\n",
    "    Data.filter(\"record.Period == 'Past' && record.Region =='Africa'\"),\n",
    "    Config({'title': 'The Population of Africa 1950-2020','legend':None}),\n",
    ")\n",
    "\n",
    "chart.animate(\n",
    "    Style({\n",
    "        \"plot\": {\n",
    "            \"yAxis\": { \"label\": { 'numberScale':'shortScaleSymbolUK'}},\n",
    "            'marker' :{ 'label' :{'numberScale':'shortScaleSymbolUK'}},\n",
    "        },\n",
    "    })\n",
    ")"
   ]
  },
  {
   "cell_type": "code",
   "execution_count": null,
   "id": "2102eaae",
   "metadata": {
    "scrolled": false
   },
   "outputs": [],
   "source": []
  }
 ],
 "metadata": {
  "kernelspec": {
   "display_name": "Python 3 (ipykernel)",
   "language": "python",
   "name": "python3"
  },
  "language_info": {
   "codemirror_mode": {
    "name": "ipython",
    "version": 3
   },
   "file_extension": ".py",
   "mimetype": "text/x-python",
   "name": "python",
   "nbconvert_exporter": "python",
   "pygments_lexer": "ipython3",
   "version": "3.9.12"
  },
  "vscode": {
   "interpreter": {
    "hash": "8e284ee3255a07ad8bf76694974743c4c81cb57e7c969474d752d949b11d721e"
   }
  }
 },
 "nbformat": 4,
 "nbformat_minor": 5
}
